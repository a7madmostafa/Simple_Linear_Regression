{
 "cells": [
  {
   "cell_type": "markdown",
   "metadata": {},
   "source": [
    "## Simple Linear Regression from Scratch\n",
    "\n",
    "\n",
    "The following Data is about Auto Insurance in Sweden:\n",
    "\n",
    "X = number of claims\n",
    "\n",
    "Y = total payment for all the claims in thousands of Swedish Kronor\n",
    "\n",
    "https://drive.google.com/open?id=1OE3x4xMqbjpDIvEleR_Uh3-3lQ-c1rNL\n"
   ]
  },
  {
   "cell_type": "code",
   "execution_count": 86,
   "metadata": {},
   "outputs": [],
   "source": [
    "import numpy as np   # For Matrices Manipulations\n",
    "import pandas as pd  # For Data frames etc \n",
    "import matplotlib.pyplot as plt \n",
    "import xlrd  # For Excel Files\n",
    "import os   # For Changing to the Correct Directory "
   ]
  },
  {
   "cell_type": "code",
   "execution_count": 102,
   "metadata": {},
   "outputs": [
    {
     "name": "stdout",
     "output_type": "stream",
     "text": [
      "*** No CODEPAGE record, no encoding_override: will use 'ascii'\n"
     ]
    },
    {
     "data": {
      "text/html": [
       "<div>\n",
       "<style scoped>\n",
       "    .dataframe tbody tr th:only-of-type {\n",
       "        vertical-align: middle;\n",
       "    }\n",
       "\n",
       "    .dataframe tbody tr th {\n",
       "        vertical-align: top;\n",
       "    }\n",
       "\n",
       "    .dataframe thead th {\n",
       "        text-align: right;\n",
       "    }\n",
       "</style>\n",
       "<table border=\"1\" class=\"dataframe\">\n",
       "  <thead>\n",
       "    <tr style=\"text-align: right;\">\n",
       "      <th></th>\n",
       "      <th>X</th>\n",
       "      <th>Y</th>\n",
       "    </tr>\n",
       "  </thead>\n",
       "  <tbody>\n",
       "    <tr>\n",
       "      <td>0</td>\n",
       "      <td>108</td>\n",
       "      <td>392.5</td>\n",
       "    </tr>\n",
       "    <tr>\n",
       "      <td>1</td>\n",
       "      <td>19</td>\n",
       "      <td>46.2</td>\n",
       "    </tr>\n",
       "    <tr>\n",
       "      <td>2</td>\n",
       "      <td>13</td>\n",
       "      <td>15.7</td>\n",
       "    </tr>\n",
       "    <tr>\n",
       "      <td>3</td>\n",
       "      <td>124</td>\n",
       "      <td>422.2</td>\n",
       "    </tr>\n",
       "    <tr>\n",
       "      <td>4</td>\n",
       "      <td>40</td>\n",
       "      <td>119.4</td>\n",
       "    </tr>\n",
       "    <tr>\n",
       "      <td>...</td>\n",
       "      <td>...</td>\n",
       "      <td>...</td>\n",
       "    </tr>\n",
       "    <tr>\n",
       "      <td>58</td>\n",
       "      <td>9</td>\n",
       "      <td>87.4</td>\n",
       "    </tr>\n",
       "    <tr>\n",
       "      <td>59</td>\n",
       "      <td>31</td>\n",
       "      <td>209.8</td>\n",
       "    </tr>\n",
       "    <tr>\n",
       "      <td>60</td>\n",
       "      <td>14</td>\n",
       "      <td>95.5</td>\n",
       "    </tr>\n",
       "    <tr>\n",
       "      <td>61</td>\n",
       "      <td>53</td>\n",
       "      <td>244.6</td>\n",
       "    </tr>\n",
       "    <tr>\n",
       "      <td>62</td>\n",
       "      <td>26</td>\n",
       "      <td>187.5</td>\n",
       "    </tr>\n",
       "  </tbody>\n",
       "</table>\n",
       "<p>63 rows × 2 columns</p>\n",
       "</div>"
      ],
      "text/plain": [
       "      X      Y\n",
       "0   108  392.5\n",
       "1    19   46.2\n",
       "2    13   15.7\n",
       "3   124  422.2\n",
       "4    40  119.4\n",
       "..  ...    ...\n",
       "58    9   87.4\n",
       "59   31  209.8\n",
       "60   14   95.5\n",
       "61   53  244.6\n",
       "62   26  187.5\n",
       "\n",
       "[63 rows x 2 columns]"
      ]
     },
     "execution_count": 102,
     "metadata": {},
     "output_type": "execute_result"
    }
   ],
   "source": [
    "'''\n",
    "If You run from google colab:\n",
    "\n",
    "from google.colab import drive\n",
    "drive.mount('/content/drive')\n",
    "os.chdir('drive/My Drive/......')  # choose the correct path\n",
    "'''\n",
    "df= pd.read_excel('Insurance.xls')\n",
    "df"
   ]
  },
  {
   "cell_type": "code",
   "execution_count": 88,
   "metadata": {},
   "outputs": [],
   "source": [
    "# We Chose 40 rows only for Training and the Rest for Testing \n",
    "x_train= df.iloc[:40,0].values\n",
    "y_train= df.iloc[:40,1].values\n",
    "x_test= df.iloc[40:,0].values\n",
    "y_test= df.iloc[40:,1].values"
   ]
  },
  {
   "cell_type": "code",
   "execution_count": 89,
   "metadata": {},
   "outputs": [
    {
     "name": "stdout",
     "output_type": "stream",
     "text": [
      "The Features to be trained on : (40,)\n",
      "The Labels to be trained on : (40,)\n",
      "The Features to be tested on : (23,)\n",
      "The Labels to be tested on : (23,)\n"
     ]
    }
   ],
   "source": [
    "print('The Features to be trained on :', x_train.shape)\n",
    "print('The Labels to be trained on :', y_train.shape )\n",
    "print('The Features to be tested on :', x_test.shape )\n",
    "print('The Labels to be tested on :', y_test.shape )"
   ]
  },
  {
   "cell_type": "code",
   "execution_count": 90,
   "metadata": {},
   "outputs": [
    {
     "data": {
      "text/plain": [
       "<function matplotlib.pyplot.show(*args, **kw)>"
      ]
     },
     "execution_count": 90,
     "metadata": {},
     "output_type": "execute_result"
    },
    {
     "data": {
      "image/png": "[encoded data removed]",
      "text/plain": [
       "<Figure size 720x576 with 1 Axes>"
      ]
     },
     "metadata": {
      "needs_background": "light"
     },
     "output_type": "display_data"
    }
   ],
   "source": [
    "plt.figure(figsize=(10,8))    \n",
    "plt.title(' Auto Insurance in Sweden', fontsize=24 , fontstyle='italic')  \n",
    "plt.xlabel('Number of claims', fontsize=20)\n",
    "plt.ylabel('Total payment in thousands', fontsize=20)\n",
    "plt.scatter(x_train , y_train)  \n",
    "plt.show   "
   ]
  },
  {
   "cell_type": "code",
   "execution_count": 91,
   "metadata": {},
   "outputs": [],
   "source": [
    "# Mean Squared Error Function\n",
    "def MSE (actual, predicted):\n",
    "    '''\n",
    "    Input: * actual : List of Actual Data\n",
    "           * predicted: List of Predicted Data\n",
    "    Return: Mean Squared Error       \n",
    "    '''\n",
    "    squared_error=0\n",
    "    for i in range(len(actual)):\n",
    "        squared_error += (actual[i]-predicted[i])**2\n",
    "    return squared_error/len(actual)"
   ]
  },
  {
   "cell_type": "code",
   "execution_count": 92,
   "metadata": {},
   "outputs": [],
   "source": [
    "# Mean Function\n",
    "def Mean (values):\n",
    "    '''\n",
    "    Input: * values : List of Data\n",
    "    Return: Mean of Data       \n",
    "    '''\n",
    "    return sum(values)/len(values)"
   ]
  },
  {
   "cell_type": "code",
   "execution_count": 93,
   "metadata": {},
   "outputs": [],
   "source": [
    "# Variance Function\n",
    "def Variance(values, mean):\n",
    "    '''\n",
    "    Input: * values : List of Data\n",
    "           * mean : Mean of Data\n",
    "    Return: Variance of Data       \n",
    "    '''\n",
    "    sum_diff=0\n",
    "    for v in values:\n",
    "        sum_diff += (v-mean)**2\n",
    "    return sum_diff/(len(values)-1) "
   ]
  },
  {
   "cell_type": "code",
   "execution_count": 94,
   "metadata": {},
   "outputs": [],
   "source": [
    "# Covariance Function\n",
    "def Covariance(x_values, y_values, x_mean, y_mean):\n",
    "    '''\n",
    "    Input: * x_values : List of Features\n",
    "           * y_values : List of Output Labels\n",
    "           * x_mean : Mean of Features\n",
    "           * y_mean : Mean of Output Labels\n",
    "    Return: Covariance of Data       \n",
    "    '''\n",
    "    sum_var= 0\n",
    "    for i in range(len(x_values)):\n",
    "        sum_var += (x_values[i]-x_mean)*(y_values[i]-y_mean)\n",
    "    return sum_var/(len(x_values)-1)  "
   ]
  },
  {
   "cell_type": "code",
   "execution_count": 95,
   "metadata": {},
   "outputs": [],
   "source": [
    "# Coefficents Function\n",
    "def Coefficents(cov, var_x, x_mean, y_mean):\n",
    "     '''\n",
    "    Input: * cov : Covariance of Data\n",
    "           * var_x : Variance of Data\n",
    "           * x_mean : Mean of Features\n",
    "           * y_mean : Mean of Output Labels\n",
    "    Return: Coefficents of Linear Equation       \n",
    "    '''\n",
    "     b1= cov/var_x\n",
    "     b0= y_mean - b1 * x_mean\n",
    "     return b0,b1"
   ]
  },
  {
   "cell_type": "code",
   "execution_count": 96,
   "metadata": {},
   "outputs": [],
   "source": [
    "# Simple Linear Regression Function\n",
    "def SimpleLinearRegression(x_train, y_train, x_test):\n",
    "    '''\n",
    "    Input: * x_train : List of Training Features\n",
    "           * y_train : List of Training Labels\n",
    "           * x_test : List of Test Features\n",
    "    Return: List of Prediction for Test Features       \n",
    "    '''\n",
    "    x_mean = Mean(x_train)\n",
    "    y_mean = Mean(y_train)\n",
    "    x_var= Variance(x_train, x_mean)\n",
    "    cov= Covariance(x_train, y_train, x_mean, y_mean)\n",
    "    b0, b1= Coefficents(cov, x_var, x_mean, y_mean)\n",
    "    y_pred = b0 + x_test * b1\n",
    "    return y_pred"
   ]
  },
  {
   "cell_type": "code",
   "execution_count": 97,
   "metadata": {},
   "outputs": [],
   "source": [
    "# Evaluate Function\n",
    "def Evaluate (x_train, y_train, x_test, y_test):\n",
    "     '''\n",
    "    Input: * x_train : List of Training Features\n",
    "           * y_train : List of Training Labels\n",
    "           * x_test : List of Test Features\n",
    "           * y_test : List of Test Labels\n",
    "    Return: Mean Square Error of Prediction and Actual Test Labels       \n",
    "    '''\n",
    "     y_pred= SimpleLinearRegression(x_train, y_train, x_test) \n",
    "     return MSE(y_test, y_pred)"
   ]
  },
  {
   "cell_type": "code",
   "execution_count": 98,
   "metadata": {},
   "outputs": [
    {
     "data": {
      "text/plain": [
       "<function matplotlib.pyplot.show(*args, **kw)>"
      ]
     },
     "execution_count": 98,
     "metadata": {},
     "output_type": "execute_result"
    },
    {
     "data": {
      "image/png": "[encoded data removed]",
      "text/plain": [
       "<Figure size 720x576 with 1 Axes>"
      ]
     },
     "metadata": {
      "needs_background": "light"
     },
     "output_type": "display_data"
    }
   ],
   "source": [
    "plt.figure(figsize=(10,8))\n",
    "plt.title(' Linear Regression ', fontsize=20 , fontstyle='italic')\n",
    "plt.xlabel('Number of claims', fontsize=20)\n",
    "plt.ylabel('Total payment in thousands', fontsize=20)\n",
    "plt.plot(x_test, SimpleLinearRegression(x_train, y_train, x_test), linewidth=1.0)  \n",
    "plt.scatter(x_train ,y_train , alpha =1, label='Y')\n",
    "plt.show"
   ]
  },
  {
   "cell_type": "code",
   "execution_count": 99,
   "metadata": {},
   "outputs": [
    {
     "data": {
      "text/plain": [
       "2235.9038595957086"
      ]
     },
     "execution_count": 99,
     "metadata": {},
     "output_type": "execute_result"
    }
   ],
   "source": [
    "Evaluate (x_train, y_train, x_test, y_test)"
   ]
  }
 ],
 "metadata": {
  "kernelspec": {
   "display_name": "Python 3",
   "language": "python",
   "name": "python3"
  },
  "language_info": {
   "codemirror_mode": {
    "name": "ipython",
    "version": 3
   },
   "file_extension": ".py",
   "mimetype": "text/x-python",
   "name": "python",
   "nbconvert_exporter": "python",
   "pygments_lexer": "ipython3",
   "version": "3.7.4"
  }
 },
 "nbformat": 4,
 "nbformat_minor": 2
}
